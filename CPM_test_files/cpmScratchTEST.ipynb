{
  "nbformat": 4,
  "nbformat_minor": 0,
  "metadata": {
    "colab": {
      "name": "cpmScratchTEST.ipynb",
      "provenance": [],
      "collapsed_sections": [],
      "machine_shape": "hm"
    },
    "kernelspec": {
      "name": "python3",
      "display_name": "Python 3"
    },
    "language_info": {
      "name": "python"
    },
    "accelerator": "GPU"
  },
  "cells": [
    {
      "cell_type": "code",
      "execution_count": null,
      "metadata": {
        "id": "wQbO1M72aAaW"
      },
      "outputs": [],
      "source": [
        "# mount google drive\n",
        "from google.colab import drive\n",
        "drive.mount('/content/drive')"
      ]
    },
    {
      "cell_type": "code",
      "source": [
        "# import libraries\n",
        "import glob2\n",
        "import pickle\n",
        "import json\n",
        "import numpy as np\n",
        "import pprint"
      ],
      "metadata": {
        "id": "_FgaxprL5i5f"
      },
      "execution_count": null,
      "outputs": []
    },
    {
      "cell_type": "code",
      "source": [
        "# copy python files\n",
        "!cp /content/drive/Shareddrives/S22_CSCI_5561_Project/testCPM/Transformers.py /content/\n",
        "!cp /content/drive/Shareddrives/S22_CSCI_5561_Project/testCPM/cpm.py /content/\n",
        "!cp /content/drive/Shareddrives/S22_CSCI_5561_Project/testCPM/gen_data.py /content/\n",
        "!cp /content/drive/Shareddrives/S22_CSCI_5561_Project/testCPM/train.py /content/\n",
        "!cp /content/drive/Shareddrives/S22_CSCI_5561_Project/testCPM/utils.py /content/\n",
        "!cp /content/drive/Shareddrives/S22_CSCI_5561_Project/testCPM/test_cpm.py /content/\n",
        "!cp /content/drive/Shareddrives/S22_CSCI_5561_Project/testCPM/test_cpm2.py /content/"
      ],
      "metadata": {
        "id": "JnObC-mOZ1jw"
      },
      "execution_count": null,
      "outputs": []
    },
    {
      "cell_type": "code",
      "source": [
        "# extract test dataset from drive\n",
        "!unzip /content/drive/Shareddrives/S22_CSCI_5561_Project/Data/test_sm.zip > /dev/null\n",
        "!rm -rf __MACOSX"
      ],
      "metadata": {
        "id": "1-noAQpF77IX"
      },
      "execution_count": null,
      "outputs": []
    },
    {
      "cell_type": "code",
      "source": [
        "# copy trained model\n",
        "!cp /content/drive/Shareddrives/S22_CSCI_5561_Project/Nate_CPM/Trained_semantic_2_27_afternoon/best_cpm.pth /content/"
      ],
      "metadata": {
        "id": "IFBRinFNN2vq"
      },
      "execution_count": null,
      "outputs": []
    },
    {
      "cell_type": "code",
      "source": [
        "# copy json file from drive\n",
        "!cp /content/drive/Shareddrives/S22_CSCI_5561_Project/Data/test_dataset/test_sm_prediction.json /content/"
      ],
      "metadata": {
        "id": "qd7h7js9KfW7"
      },
      "execution_count": null,
      "outputs": []
    },
    {
      "cell_type": "code",
      "source": [
        "# check json file format\n",
        "jf = json.load(open('test_sm_prediction.json'))['data']\n",
        "\n",
        "print(f\"Number of annotations: {len(jf)}\\n\")\n",
        "pprint.pprint(jf[0], compact=True)"
      ],
      "metadata": {
        "id": "LnAD5DpQKwzg"
      },
      "execution_count": null,
      "outputs": []
    },
    {
      "cell_type": "code",
      "source": [
        "!rm -rf test_sm_prediction.json"
      ],
      "metadata": {
        "id": "_Kz1oLUp5Fzk"
      },
      "execution_count": null,
      "outputs": []
    },
    {
      "cell_type": "code",
      "source": [
        "!mkdir test_sm_prediction"
      ],
      "metadata": {
        "id": "5TMGWkXlPeC-"
      },
      "execution_count": null,
      "outputs": []
    },
    {
      "cell_type": "code",
      "source": [
        "!python test_cpm2.py --test_path /content/content/test_sm/ --json_path /content/test_sm_prediction.json --model_path /content/best_cpm.pth --pred_path /content/test_sm_prediction/"
      ],
      "metadata": {
        "id": "4Mx1kc0pXYSV"
      },
      "execution_count": null,
      "outputs": []
    },
    {
      "cell_type": "code",
      "source": [
        "!zip -r test_sm_prediction_color.zip test_sm_prediction"
      ],
      "metadata": {
        "id": "a3cMa0edhE_7"
      },
      "execution_count": null,
      "outputs": []
    },
    {
      "cell_type": "code",
      "source": [
        "!cp test_sm_prediction_color.zip /content/drive/Shareddrives/S22_CSCI_5561_Project/\n",
        "!cp test_sm_prediction.json /content/drive/Shareddrives/S22_CSCI_5561_Project/"
      ],
      "metadata": {
        "id": "ZeIiBPM0oG8v"
      },
      "execution_count": null,
      "outputs": []
    }
  ]
}